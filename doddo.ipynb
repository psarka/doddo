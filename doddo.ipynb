{
 "metadata": {
  "kernelspec": {
   "codemirror_mode": {
    "name": "ipython",
    "version": 3
   },
   "display_name": "IPython (Python 3)",
   "language": "python",
   "name": "python3"
  },
  "name": "",
  "signature": "sha256:a1dbbe73e16955be056034e3f60b47bc6f570bcbb331e4dcae4f63b8f55dd8d6"
 },
 "nbformat": 3,
 "nbformat_minor": 0,
 "worksheets": [
  {
   "cells": [
    {
     "cell_type": "heading",
     "level": 3,
     "metadata": {},
     "source": [
      "Doddington's rule of 30"
     ]
    },
    {
     "cell_type": "markdown",
     "metadata": {},
     "source": [
      "Doddington's rule is \"To be 90% confident that the true error rate is within \u008b30% of the observed error rate, there must be at least 30 errors\". Doddington *et. al.* writes that the rule \"comes directly from the binomial distribution\". I guess the first lesson to be learned is that \"comes directly\" for a scientist like Doddington means something different than for a lay person. I could not immediately find an elementary explanation myself, although it could exist. What follows is a less elementary explanation.\n",
      "\n",
      "Note that rule as cited is a statement about *necessity* -- it is equivalent to a claim that 29 or less observed errors are not enough for desired confidence. I'm sure it is true, but showing that something doesn't work is slightly less interesting than that something works. So I will explore the *sufficiency* statement \"To be 90% confident that the true error rate is within 30% of the observed error rate, it is enough to observe 30 errors\"."
     ]
    },
    {
     "cell_type": "heading",
     "level": 6,
     "metadata": {},
     "source": [
      "The setting and precise formulation"
     ]
    },
    {
     "cell_type": "markdown",
     "metadata": {},
     "source": [
      "We have a device that returns either correct result (success) or an error. The true error rate of the device can be any number between 0 and 1 and is unknown to us. We wish to estimate it by trying the device many times. We will denote this unknown true error rate by $q$.\n",
      "\n",
      "Following the rule, we will test the device until 30 errors are observed and calculate the observed error rate which we will denote by $\\hat q$. Observed error rate is simply the observed proportion of errors: if we had to test the device $N+30$ times, the observed error rate is \n",
      "\n",
      "$$\n",
      "\\hat q = \\frac{30}{N+30}.\n",
      "$$\n",
      "\n",
      "The rule claims that with 90% confidence the true error rate is within 30% of the observed rate. Writing it down, \"within 30%\" means \n",
      "\n",
      "$$\n",
      "0.7\\hat q \\leq q \\leq 1.3\\hat q,\n",
      "$$\n",
      "\n",
      "and \"90% confidence\" means that above inequality will hold with probability .9 (or greater) for any value of $q$. \n",
      "\n",
      "Just to be sure (confidence statements are sometimes quite confusing) let me repeat the statement again. Choose any $q$ between 0 and 1 and take a device with error rate $q$. Test until 30 errors are observed and calculate observed error rate $\\hat q$. With probability .9 (or greater), $0.7\\hat q \\leq q \\leq 1.3 \\hat q$. As a practical advice, probably it is not a good idea to take $q=0$, unless one is ready to wait forever. So let's only consider $0 < q \\leq 1$."
     ]
    },
    {
     "cell_type": "heading",
     "level": 6,
     "metadata": {},
     "source": [
      "Calculating the probability"
     ]
    },
    {
     "cell_type": "markdown",
     "metadata": {},
     "source": [
      "To facilitate the calculation, let's rewrite the \"within 30%\" inequality. First note that it is equivalent to\n",
      "\n",
      "$$\n",
      "\\frac{q}{1.3} \\leq \\hat q \\leq \\frac{q}{0.7},\n",
      "$$\n",
      "\n",
      "then, substitute the expression for $\\hat q$\n",
      "\n",
      "$$\n",
      "\\frac{q}{1.3} \\leq \\frac{30}{N+30} \\leq \\frac{q}{0.7},\n",
      "$$\n",
      "\n",
      "and invert\n",
      "\n",
      "$$\n",
      "\\frac{30\\cdot 0.7}{q} \\leq N +30 \\leq \\frac{30 \\cdot 1.3}{q}.\n",
      "$$\n",
      "\n",
      "The expressions are becoming annoying, so let's simplify our life and take, for example, $q = .01$. That is, consider a device with the error rate equal to one out of one hundred. The inequality is then\n",
      "$$2100 \\leq N+30 \\leq 3900,$$\n",
      "and the statement is clear: if true error rate is .01 and we test until 30 errors are observed, with probability .9 we will have to test between 2100 and 3900 times. Let's show that it is true, and return to other values of $q$ later."
     ]
    },
    {
     "cell_type": "heading",
     "level": 6,
     "metadata": {},
     "source": [
      "Negative binomial"
     ]
    },
    {
     "cell_type": "markdown",
     "metadata": {},
     "source": [
      "The above probability is actually not that simple to estimate. But luckily we are not the first ones doing it. It so happens, that given our setting (that is, testing with error rate $q = .01$), the number of successes ($N$) until given number of failures (30) occurs follows so called negative binomial distribution with parameters 30, .01. To write it using mathematical nomenclature,\n",
      "\n",
      "$$\n",
      "N \\sim \\mathcal{NB}(30, 0.01).\n",
      "$$\n",
      "\n",
      "This mathematical notion is completely useless for our goal, but it looks cool and the superfluous use of caligrafic letters adds a lot of credibility to our writing. The usefull bit is that we can lookup in the wikipedia the probability to observe $N$ successes. The probability is equal to\n",
      "\n",
      "$$\n",
      "P(N \\text{ successes}) = \\binom{N + 29}{29}0.99^{N} 0.01^{30}.\n",
      "$$\n",
      "\n",
      "Actually, finding this probability is not too hard and we could have done it ourselves. However, finding the probability of one value of $N$ is not the same as finding the probability of the *range* of values, and that is where we will get into trouble. But before moving on, let's summarize the achievements and illustrate the situation.\n",
      "\n",
      "We figured out, that in the $q=.01$ case Doddington's rule can be translated to the following statement: if we test a device with an error rate .01 until 30 errors are observed, with probability .9 (or greater) we should observe between 2070 and 3870 successes. And we also know how to calculate the probability to observe, say, 3000 successes: just use the above expression. In fact, using a computing device we can calculate these probabilities for all $N$ from 0 to 5000 and plot them for illustration:"
     ]
    },
    {
     "cell_type": "code",
     "collapsed": false,
     "input": [
      "import matplotlib.pyplot as plt\n",
      "from scipy.special import binom\n",
      "%matplotlib inline\n",
      "\n",
      "def P(N):\n",
      "    return binom(N+29, 29)*(0.99**N)*(0.01**30)\n",
      "\n",
      "plt.plot([P(N) for N in range(5000)])\n",
      "plt.xlabel('N'); plt.ylabel('P(N successes)')\n",
      "plt.show()"
     ],
     "language": "python",
     "metadata": {},
     "outputs": [
      {
       "metadata": {},
       "output_type": "display_data",
       "png": "[encoded data removed]",
       "text": [
        "<matplotlib.figure.Figure at 0x7f9ddd44d510>"
       ]
      }
     ],
     "prompt_number": 1
    },
    {
     "cell_type": "markdown",
     "metadata": {},
     "source": [
      "Evidently, the bulk of reasonably probable values of N is indeed in the 2000 -- 4000 range. With all the computer power on our hands we can easily confirm, that the probability of $2070 \\leq N \\leq 3870$ is .9 or greater:"
     ]
    },
    {
     "cell_type": "code",
     "collapsed": false,
     "input": [
      "sum(P(N) for N in range(2070, 3871))"
     ],
     "language": "python",
     "metadata": {},
     "outputs": [
      {
       "metadata": {},
       "output_type": "pyout",
       "prompt_number": 2,
       "text": [
        "0.90531344986669915"
       ]
      }
     ],
     "prompt_number": 2
    },
    {
     "cell_type": "markdown",
     "metadata": {},
     "source": [
      "OK, so Doddington's rule holds for error rate $q = .01$. What about other values of $q$? There are two ways how to check it: use computer again and calculate the probability for different values of $q$, or work out the math. Let's use computer first."
     ]
    },
    {
     "cell_type": "heading",
     "level": 6,
     "metadata": {},
     "source": [
      "Other values of q"
     ]
    },
    {
     "cell_type": "markdown",
     "metadata": {},
     "source": [
      "There's not much to do, actually. Just use formulas we obtained above and substitute different values of $q$. There is no way to check them all, so let's only check few selected ones and see if things are as expected."
     ]
    },
    {
     "cell_type": "code",
     "collapsed": false,
     "input": [
      "def P(N, q): #Probability to observe N successes if the error rate is q and we stop after 30 errors\n",
      "    return binom(N+29, 29) * (1-q)**N * q**30\n",
      "\n",
      "def interval(q): #\"Within 30%\" interval, rewritten for N.\n",
      "    return int(30*0.7/q) - 30, int(30*1.3/q) - 30 + 1\n",
      "\n",
      "def probability(q): #Probability to be in the interval -- simply a sum of probabilities of individual values\n",
      "    return sum(P(N, q) for N in range(*interval(q)))"
     ],
     "language": "python",
     "metadata": {},
     "outputs": [],
     "prompt_number": 3
    },
    {
     "cell_type": "code",
     "collapsed": false,
     "input": [
      "qs = [.5, .1, .05, .01, .005, .001, .0005, .0001]\n",
      "for q in qs:\n",
      "    print('error rate q: %.4f, \\t probability: %f' %(q, probability(q)))"
     ],
     "language": "python",
     "metadata": {},
     "outputs": [
      {
       "output_type": "stream",
       "stream": "stdout",
       "text": [
        "error rate q: 0.5000, \t probability: 0.982445\n",
        "error rate q: 0.1000, \t probability: 0.921788\n",
        "error rate q: 0.0500, \t probability: 0.912680\n",
        "error rate q: 0.0100, \t probability: 0.905313\n",
        "error rate q: 0.0050, \t probability: 0.904389\n",
        "error rate q: 0.0010, \t probability: 0.903649\n",
        "error rate q: 0.0005, \t probability: 0.903556\n",
        "error rate q: 0.0001, \t probability: 0.903482\n"
       ]
      }
     ],
     "prompt_number": 4
    },
    {
     "cell_type": "markdown",
     "metadata": {},
     "source": [
      "For smaller values of $q$ computation takes very long, the number of summands is huge and I'm not really sure if we can trust the numerical precision of the results anymore. But even from the few ones we checked is seems that probability is larger than .9 (actually strikingly close to .9), so let's call it a confirmation."
     ]
    },
    {
     "cell_type": "heading",
     "level": 6,
     "metadata": {},
     "source": [
      "Working out the math"
     ]
    },
    {
     "cell_type": "markdown",
     "metadata": {},
     "source": [
      "Let's take the second way and try to work out the math. Probability of $2070 \\leq N \\leq 3870$ can be calculated by subtracting $P(N \\leq 3870) - P(N \\leq 2069)$. This may look like an arbitrary observation, but it is not: probabilities of the form $P(N \\leq x)$ are frequent in probability theory and are called *tails of the distribution*. The function $F_N(x) = P(N \\leq x)$ allowing to calculate arbitrary tail is called *cumulative distribution function* or *CDF*.\n",
      "\n",
      "So here are the bad news: CDF of negative binomial is ugly and calculating it's tails is hard. Consequently, there is no reason to expect that calculating the probability of range $2070 \\leq N \\leq 3870$ will be easy. According to [wikipedia](http://en.wikipedia.org/wiki/Negative_binomial_distribution), the probability to observe $x$ or less successes, given that the error rate is $q$ and we stopped after 30 errors, is equal to $$1 - I_{1-q}(x + 1, 30),$$\n",
      "\n",
      "where $I$ is the *regularized incomplete beta function*. According to [wikipedia](http://en.wikipedia.org/wiki/Beta_function#Incomplete_beta_function), or even [nist](http://dlmf.nist.gov/8.17), above expression is equal to $I_q(30, x+1)$, so to confirm Doddington's rule for $q=.01$ we have to check if \n",
      "\n",
      "$$\n",
      "P(N \\leq 3870) - P(N \\leq 2069) = I_{.01}(30, 3871) - I_{.01}(30, 2070) \\geq 0.9,\n",
      "$$\n",
      "\n",
      "and to confirm it for any value of $q$ we have to check if \n",
      "\n",
      "$$\n",
      "I_q(30, 30\\cdot 1.3/q - 29) - I_q(30, 30\\cdot 0.7/q - 30) \\geq 0.9.\n",
      "$$\n",
      "\n",
      "This is very nice, and we start wondering if we will come back from this alive. Let's do a sanity check:"
     ]
    },
    {
     "cell_type": "code",
     "collapsed": false,
     "input": [
      "from scipy.special import betainc\n",
      "print('probability for .01 error rate', betainc(30, 3871, .01) - betainc(30, 2070, .01))"
     ],
     "language": "python",
     "metadata": {},
     "outputs": [
      {
       "output_type": "stream",
       "stream": "stdout",
       "text": [
        "probability for .01 error rate 0.905313449866\n"
       ]
      }
     ],
     "prompt_number": 5
    },
    {
     "cell_type": "markdown",
     "metadata": {},
     "source": [
      "Hey, it works! Computers known how to deal with this incomplete beta function, so let's calculate probabilities for different error rates:"
     ]
    },
    {
     "cell_type": "code",
     "collapsed": false,
     "input": [
      "def ends(q):\n",
      "    return int(30*0.7/q) - 30, int(30*1.3/q) - 30 + 1\n",
      "\n",
      "def probability(q):\n",
      "    lo, hi = ends(q)\n",
      "    return betainc(30, hi, q) - betainc(30, lo, q)"
     ],
     "language": "python",
     "metadata": {},
     "outputs": [],
     "prompt_number": 6
    },
    {
     "cell_type": "code",
     "collapsed": false,
     "input": [
      "qs = [.1, .05, .01, .005, .001, .0005, .0001]\n",
      "for q in qs:\n",
      "    q = q/100000\n",
      "    print('error rate q: %.9f, \\t probability: %f' %(q, probability(q)))"
     ],
     "language": "python",
     "metadata": {},
     "outputs": [
      {
       "output_type": "stream",
       "stream": "stdout",
       "text": [
        "error rate q: 0.000001000, \t probability: 0.903464\n",
        "error rate q: 0.000000500, \t probability: 0.903464\n",
        "error rate q: 0.000000100, \t probability: 0.903464\n",
        "error rate q: 0.000000050, \t probability: 0.903464\n",
        "error rate q: 0.000000010, \t probability: 0.903463\n",
        "error rate q: 0.000000005, \t probability: 0.903464\n",
        "error rate q: 0.000000001, \t probability: 0.903463\n"
       ]
      }
     ],
     "prompt_number": 7
    },
    {
     "cell_type": "markdown",
     "metadata": {},
     "source": [
      "Nice! Calculation works fast, and numerical precision should be adequate (let's hope it is, I have no idea how things work under the hood). Even for ridiculously small error rates we get the same probability (things seem to be converging), so it is more than reasonable to call it a day. But let's not do that and continue looking for the mathematical \"directly follows\" approach.\n",
      "\n",
      "The trouble with incomplete beta is that it cannot be expressed as a sum or product of \"normal\" functions, so it is not clear how to find a closed form expression for probability depending on $q$. I can't do it, and I can't find it done. My guess is that Doddington didn't do it either, but used an approximation. Let's try a normal approximation."
     ]
    },
    {
     "cell_type": "heading",
     "level": 6,
     "metadata": {},
     "source": [
      "Normal approximation"
     ]
    },
    {
     "cell_type": "markdown",
     "metadata": {},
     "source": [
      "Normal approximations are based on the statement *when something is large, then something is normal, except when it isn't, but let's hope that it is this time*. The shape of the plot of probabilities before kind of reminded Gaussian curve, so yeah. (Jokes aside, to justify normal approximation one should prove a central limit theorem with reasonable bounds for convergence, which is extremely laborious and as far from \"follows directly\" as it gets.)\n",
      "\n",
      "So what is it that we will approximate? Recall that in the general case we had to calculate probabilities \n",
      "\n",
      "$$\n",
      "P(N \\leq 30\\cdot 1.3/q - 29) \\text{ and } P(N \\leq 30\\cdot 0.7/q - 30),\n",
      "$$\n",
      "\n",
      "with $N$ having negative binomial distribution $N \\sim \\mathcal{NB}(30, q)$. We couldn't do it, because CDF of negative binomial was too scary. Instead, we will calculate the same probabilities, but will replace negative binomial by a normal distribution, hoping that difference in probabilities is going to be small and calculation will be simpler.\n",
      "\n",
      "Now normal distribution has two parameters: mean $\\mu$ and variance $\\sigma^2$. In order to approximate negative binomial well, we need to choose appropriate values. But that isn't hard: we will take $\\mu$ equal to the mean of our negative binomial, and we will take $\\sigma^2$ equal to the variance of our negative binomial.\n",
      "\n",
      "Mean and variance of negative binomial can be calculated without too much trouble, but we will save ourselves from trouble and simply substitute our parameters (30 and $q$) into formulas from wikipedia. From there we get that\n",
      "\n",
      "$$\n",
      "\\begin{align}\n",
      "\\mu &= 30(1-q)/q\\\\\n",
      "\\sigma &= \\sqrt{30(1-q)}/q\n",
      "\\end{align}\n",
      "$$\n",
      "\n",
      "OK, so our hope is that distributions $\\mathcal{NB}(30, q)$ and $\\mathcal{N}(30(1-q)/q, \\sqrt{30(1-q)}/q)$ are similar. Let's compare them for $q=.01$:"
     ]
    },
    {
     "cell_type": "code",
     "collapsed": false,
     "input": [
      "from scipy.stats import norm\n",
      "import numpy as np\n",
      "\n",
      "q = .01\n",
      "mu = 30*(1-q)/q\n",
      "sigma = np.sqrt(30*(1-q))/q\n",
      "\n",
      "plt.plot(range(5000), norm.pdf(np.array(range(5000)), loc=mu, scale=sigma))\n",
      "plt.plot(range(5000), [P(i, q) for i in range(5000)])\n",
      "plt.show()"
     ],
     "language": "python",
     "metadata": {},
     "outputs": [
      {
       "metadata": {},
       "output_type": "display_data",
       "png": "[encoded data removed]",
       "text": [
        "<matplotlib.figure.Figure at 0x7f9dbd277b10>"
       ]
      }
     ],
     "prompt_number": 8
    },
    {
     "cell_type": "markdown",
     "metadata": {},
     "source": [
      "Indeed very similar! (except that it is probably not a good idea to compare discrete and continuous distributions like that, but the hell with it, it looks cool).\n",
      "\n",
      "Having replaced the unwieldy negative binomial by a normal, we are very close to estimating the probabilities. First, since we are already approximating things, let's get rid of the annoying $-29$ and $-30$ terms and estimate probabilities\n",
      "\n",
      "$$\n",
      "P(N \\leq 30\\cdot 1.3/q) \\text{ and } P(N \\leq 30\\cdot 0.7/q).\n",
      "$$\n",
      "\n",
      "Then, use the fact that probability $P(N \\leq x)$ for $N \\sim \\mathcal{N}(\\mu, \\sigma)$ is equal to the probability $P(N \\leq (x - \\mu)/\\sigma)$ for $N \\sim \\mathcal{N}(0, 1)$. This might not be obvious, so here is a short \"explanation\": If $N$ is normally distributed with average $\\mu$, then $N-\\mu$ is normally distributed with average 0. And also, if $N-\\mu$ is normally distributed with average 0 and standard deviation $\\sigma$, then $(N-\\mu)/\\sigma$ is normally distributed with average 0 and standard deviation 1. I don't know how to expand further on why this is true without going into details of normal distribution, so let's leave it here.\n",
      "\n",
      "So, finally we get that $P(N \\leq 30\\cdot 1.3/q)$ is approximately equal to $P(Z \\leq \\frac{30\\cdot 1.3/q - 30(1-q)/q}{\\sqrt{30(1-q)}/q})$, where $Z \\sim \\mathcal{N}(0, 1)$, and that expression simplifies to\n",
      "\n",
      "$$\n",
      "P(Z \\leq \\frac{\\sqrt{30}(q + .3)}{\\sqrt{1-q}}).\n",
      "$$\n",
      "\n",
      "Since approximations only work when $q$ is small anyway, we proceed to simplify further (substituting $q = 0$) to get\n",
      "\n",
      "$$\n",
      "P(Z \\leq \\sqrt{30}\\cdot 0.3) \\approx P(Z \\leq 1.643).\n",
      "$$\n",
      "\n",
      "Repeating the same procedure for the other probability we find it approximately equal to \n",
      "\n",
      "$$\n",
      "P(Z \\leq -\\sqrt{30}\\cdot 0.3) \\approx P(Z \\leq -1.643).\n",
      "$$\n",
      "\n",
      "Let's substract (drum roll):"
     ]
    },
    {
     "cell_type": "code",
     "collapsed": false,
     "input": [
      "norm.cdf(1.643) - norm.cdf(-1.643)"
     ],
     "language": "python",
     "metadata": {},
     "outputs": [
      {
       "metadata": {},
       "output_type": "pyout",
       "prompt_number": 9,
       "text": [
        "0.89961706673922692"
       ]
      }
     ],
     "prompt_number": 9
    },
    {
     "cell_type": "markdown",
     "metadata": {},
     "source": [
      "Jey! Doddington's rule works."
     ]
    }
   ],
   "metadata": {}
  }
 ]
}